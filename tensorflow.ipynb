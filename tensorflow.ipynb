{
 "cells": [
  {
   "cell_type": "markdown",
   "metadata": {},
   "source": [
    "# Code for `TensorFlow`/`Keras`\n"
   ]
  },
  {
   "cell_type": "markdown",
   "metadata": {},
   "source": [
    "##### Algo:\n",
    "\n",
    "1. Ingest data\n",
    "2. Plot data\n",
    "3. Visually inspect data\n",
    "4. Use Isolation Forest to isolate Anomaly\n",
    "5. Remove Anomaly from dataset\n",
    "6. Re-plot data\n",
    "7. Keep using steps 4-6 until all data in y-series falls within ~XYZ% range of acceptance"
   ]
  },
  {
   "cell_type": "code",
   "execution_count": 8,
   "metadata": {},
   "outputs": [
    {
     "name": "stderr",
     "output_type": "stream",
     "text": [
      "/usr/lib/python3.7/site-packages/IPython/core/interactiveshell.py:3185: DtypeWarning: Columns (3,5,8) have mixed types. Specify dtype option on import or set low_memory=False.\n",
      "  if (yield from self.run_code(code, result)):\n"
     ]
    }
   ],
   "source": [
    "###### import all needed modules\n",
    "\n",
    "#import keras\n",
    "import numpy as np\n",
    "from matplotlib import pyplot\n",
    "import pandas as pd\n",
    "from pandas import DataFrame\n",
    "import sklearn\n",
    "from sklearn.ensemble import IsolationForest\n",
    "from datetime import datetime\n",
    "\n",
    "### Read files in\n",
    "FILE_1k = './anomaly-1k.csv'\n",
    "FILE_5k = './anomaly-5k.csv'\n",
    "FILE_ALL = './Anomaly_Data_NO-CR.csv'\n",
    "\n",
    "def ingest_csv(FILE):\n",
    "    # Dateformat: 01-Mar-17 (%d-%b-%y)\n",
    "    #dateparse = lambda x: pd.to_datetime(pd.datetime.strptime(x, '%d-%b-%y'))\n",
    "    dateparse = lambda x: pd.to_datetime(datetime.strptime(x, '%d-%b-%y')).isoformat()\n",
    "\n",
    "    # nrows=10000\n",
    "    return pd.read_csv(FILE, sep=',', parse_dates=['TRANSACTION_DATE'], date_parser=dateparse)\n",
    "\n",
    "### Initialize dataframes\n",
    "df_1k = ingest_csv(FILE_1k)\n",
    "df_5k = ingest_csv(FILE_5k)\n",
    "df_all = ingest_csv(FILE_ALL)\n",
    "\n",
    "#df = df_1k"
   ]
  },
  {
   "cell_type": "code",
   "execution_count": 11,
   "metadata": {},
   "outputs": [
    {
     "ename": "NameError",
     "evalue": "name 'df' is not defined",
     "output_type": "error",
     "traceback": [
      "\u001b[0;31m---------------------------------------------------------------------------\u001b[0m",
      "\u001b[0;31mNameError\u001b[0m                                 Traceback (most recent call last)",
      "\u001b[0;32m<ipython-input-11-8e1dccde4787>\u001b[0m in \u001b[0;36m<module>\u001b[0;34m\u001b[0m\n\u001b[1;32m      1\u001b[0m \u001b[0;31m#group_tdate = df['DC_PROD_NAME'].groupby(by=\"TRANSACTION_DATE\")#, axis='columns')\u001b[0m\u001b[0;34m\u001b[0m\u001b[0;34m\u001b[0m\u001b[0;34m\u001b[0m\u001b[0m\n\u001b[0;32m----> 2\u001b[0;31m \u001b[0mgroup_tdate\u001b[0m \u001b[0;34m=\u001b[0m \u001b[0mdf\u001b[0m\u001b[0;34m[\u001b[0m\u001b[0;34m'DC_PROD_NAME'\u001b[0m\u001b[0;34m]\u001b[0m\u001b[0;34m.\u001b[0m\u001b[0mgroupby\u001b[0m\u001b[0;34m(\u001b[0m\u001b[0mby\u001b[0m\u001b[0;34m=\u001b[0m\u001b[0;34m[\u001b[0m\u001b[0mdf\u001b[0m\u001b[0;34m[\u001b[0m\u001b[0;34m'ACCOUNT_NAME'\u001b[0m\u001b[0;34m]\u001b[0m\u001b[0;34m]\u001b[0m\u001b[0;34m)\u001b[0m\u001b[0;34m\u001b[0m\u001b[0;34m\u001b[0m\u001b[0m\n\u001b[0m\u001b[1;32m      3\u001b[0m \u001b[0mx\u001b[0m \u001b[0;34m=\u001b[0m \u001b[0mlist\u001b[0m\u001b[0;34m(\u001b[0m\u001b[0mgroup_tdate\u001b[0m\u001b[0;34m.\u001b[0m\u001b[0mindices\u001b[0m\u001b[0;34m.\u001b[0m\u001b[0mkeys\u001b[0m\u001b[0;34m(\u001b[0m\u001b[0;34m)\u001b[0m\u001b[0;34m)\u001b[0m\u001b[0;34m\u001b[0m\u001b[0;34m\u001b[0m\u001b[0m\n\u001b[1;32m      4\u001b[0m \u001b[0my\u001b[0m \u001b[0;34m=\u001b[0m \u001b[0mlist\u001b[0m\u001b[0;34m(\u001b[0m\u001b[0mgroup_tdate\u001b[0m\u001b[0;34m.\u001b[0m\u001b[0mcount\u001b[0m\u001b[0;34m(\u001b[0m\u001b[0;34m)\u001b[0m\u001b[0;34m)\u001b[0m\u001b[0;34m\u001b[0m\u001b[0;34m\u001b[0m\u001b[0m\n\u001b[1;32m      5\u001b[0m \u001b[0;31m#print(i[0] for i in x)\u001b[0m\u001b[0;34m\u001b[0m\u001b[0;34m\u001b[0m\u001b[0;34m\u001b[0m\u001b[0m\n",
      "\u001b[0;31mNameError\u001b[0m: name 'df' is not defined"
     ]
    }
   ],
   "source": [
    "#group_tdate = df['DC_PROD_NAME'].groupby(by=\"TRANSACTION_DATE\")#, axis='columns')\n",
    "group_tdate = df['DC_PROD_NAME'].groupby(by=[df['ACCOUNT_NAME']])\n",
    "x = list(group_tdate.indices.keys())\n",
    "y = list(group_tdate.count())\n",
    "#print(i[0] for i in x)\n",
    "xx = []\n",
    "for i in x:\n",
    "    xx.append(i[0])\n",
    "#print(xx)\n",
    "#print(y)\n",
    "pyplot.scatter(xx,y)"
   ]
  },
  {
   "cell_type": "code",
   "execution_count": 5,
   "metadata": {},
   "outputs": [],
   "source": [
    "### Get the sets we will use to train/predict\n",
    "def get_costdiff_sets(dframe):\n",
    "    g_cd = (dframe['DELIVERED_PRICE']-(dframe['UNIT_PRICE'] * dframe['DELIVERED_QUANTITY'])).groupby(dframe['TRANSACTION_DATE'])\n",
    "    cd_x = list(g_cd.indices.keys()) # Product IDs\n",
    "    cd_y = list(g_cd.mean()) # Average differences\n",
    "    return (cd_x, cd_y)\n",
    "\n",
    "### The x/y training sets for Isolation forests\n",
    "def gen_set(x, y):\n",
    "    xx = []\n",
    "    yy = []\n",
    "    e=0\n",
    "    for i in range(len(x)):\n",
    "        try:\n",
    "            xx.append(float(x[i]))\n",
    "            yy.append(y[i])\n",
    "        except:\n",
    "            e+=1\n",
    "    return (xx, yy, e)"
   ]
  },
  {
   "cell_type": "code",
   "execution_count": 6,
   "metadata": {},
   "outputs": [
    {
     "name": "stdout",
     "output_type": "stream",
     "text": [
      "([Timestamp('2017-03-01 00:00:00'), Timestamp('2017-03-03 00:00:00'), Timestamp('2017-03-06 00:00:00'), Timestamp('2017-03-08 00:00:00'), Timestamp('2017-03-10 00:00:00'), Timestamp('2017-03-13 00:00:00'), Timestamp('2017-03-15 00:00:00'), Timestamp('2017-03-16 00:00:00'), Timestamp('2017-03-17 00:00:00'), Timestamp('2017-03-20 00:00:00'), Timestamp('2017-03-22 00:00:00'), Timestamp('2017-03-24 00:00:00'), Timestamp('2017-03-27 00:00:00'), Timestamp('2017-03-29 00:00:00'), Timestamp('2017-03-31 00:00:00'), Timestamp('2017-04-03 00:00:00'), Timestamp('2017-04-04 00:00:00'), Timestamp('2017-04-05 00:00:00'), Timestamp('2017-04-07 00:00:00'), Timestamp('2017-04-10 00:00:00'), Timestamp('2017-04-12 00:00:00'), Timestamp('2017-04-14 00:00:00'), Timestamp('2017-04-17 00:00:00'), Timestamp('2017-04-18 00:00:00'), Timestamp('2017-04-19 00:00:00'), Timestamp('2017-04-21 00:00:00'), Timestamp('2017-04-24 00:00:00'), Timestamp('2017-04-26 00:00:00'), Timestamp('2017-04-28 00:00:00'), Timestamp('2017-05-01 00:00:00'), Timestamp('2017-05-03 00:00:00'), Timestamp('2017-05-05 00:00:00'), Timestamp('2017-05-08 00:00:00'), Timestamp('2017-05-10 00:00:00'), Timestamp('2017-05-12 00:00:00'), Timestamp('2017-05-15 00:00:00'), Timestamp('2017-05-16 00:00:00'), Timestamp('2017-05-17 00:00:00'), Timestamp('2017-05-19 00:00:00'), Timestamp('2017-05-22 00:00:00'), Timestamp('2017-05-24 00:00:00'), Timestamp('2017-05-26 00:00:00'), Timestamp('2017-05-30 00:00:00'), Timestamp('2017-05-31 00:00:00'), Timestamp('2017-06-02 00:00:00'), Timestamp('2017-06-05 00:00:00'), Timestamp('2017-06-07 00:00:00'), Timestamp('2017-06-09 00:00:00'), Timestamp('2017-06-12 00:00:00'), Timestamp('2017-06-14 00:00:00'), Timestamp('2017-06-16 00:00:00'), Timestamp('2017-06-19 00:00:00'), Timestamp('2017-06-21 00:00:00'), Timestamp('2017-06-23 00:00:00'), Timestamp('2017-06-26 00:00:00'), Timestamp('2017-06-27 00:00:00'), Timestamp('2017-06-28 00:00:00'), Timestamp('2017-06-30 00:00:00')], [-0.23285714285714354, -0.4942105263157882, -0.3538095238095225, -0.24916666666666734, -0.4909999999999983, -0.2526315789473686, -0.2987500000000006, 0.0, -0.3965384615384591, -0.29142857142857154, -0.29538461538461497, -0.4113043478260874, -0.304545454545455, -0.2966666666666669, -0.47095238095238057, -0.278124999999999, -0.29999999999999716, -0.3092857142857141, -0.40559999999999957, -0.3129411764705876, -0.2912499999999995, -0.362499999999999, -0.4059999999999984, 0.0, -0.38769230769230767, -0.4778260869565188, -0.32449999999999973, -0.28874999999999895, -0.40439999999999965, -0.3013636363636359, -0.3238888888888883, -0.36863636363636343, -0.22631578947368472, -0.2893749999999993, -0.40481481481481346, -0.35624999999999785, 0.0, -0.2655555555555554, -0.3291304347826075, -0.35045454545454413, -0.27749999999999925, -0.41874999999999885, -0.2966666666666657, -0.3649999999999989, -0.3329999999999999, -0.3207692307692286, -0.19235294117646973, -0.3777272727272717, -0.29999999999999866, -0.24199999999999922, -0.5003571428571425, -0.31999999999999873, -0.31941176470588123, -0.39086956521738925, -0.32999999999999885, 0.0, -0.2289473684210521, -0.40583333333333244])\n"
     ]
    },
    {
     "data": {
      "text/plain": [
       "<matplotlib.collections.PathCollection at 0x7fb7a251d160>"
      ]
     },
     "execution_count": 6,
     "metadata": {},
     "output_type": "execute_result"
    },
    {
     "data": {
      "image/png": "[encoded data removed]",
      "text/plain": [
       "<Figure size 432x288 with 1 Axes>"
      ]
     },
     "metadata": {
      "needs_background": "light"
     },
     "output_type": "display_data"
    }
   ],
   "source": [
    "### Get our set that we are using to compare\n",
    "costdiff_1k = get_costdiff_sets(df_1k)\n",
    "print(costdiff_1k)\n",
    "\n",
    "### The sets we will use to train\n",
    "costdiff_1k_x = costdiff_1k[0]\n",
    "costdiff_1k_y = costdiff_1k[1]\n",
    "\n",
    "pyplot.scatter(costdiff_1k_x, costdiff_1k_y)"
   ]
  },
  {
   "cell_type": "code",
   "execution_count": 7,
   "metadata": {},
   "outputs": [
    {
     "ename": "TypeError",
     "evalue": "float() argument must be a string or a number, not 'Timestamp'",
     "output_type": "error",
     "traceback": [
      "\u001b[0;31m---------------------------------------------------------------------------\u001b[0m",
      "\u001b[0;31mTypeError\u001b[0m                                 Traceback (most recent call last)",
      "\u001b[0;32m<ipython-input-7-bca0c81f4930>\u001b[0m in \u001b[0;36m<module>\u001b[0;34m\u001b[0m\n\u001b[1;32m      8\u001b[0m     \u001b[0;32mreturn\u001b[0m \u001b[0mxy\u001b[0m\u001b[0;34m\u001b[0m\u001b[0;34m\u001b[0m\u001b[0m\n\u001b[1;32m      9\u001b[0m \u001b[0mcd1kxy\u001b[0m \u001b[0;34m=\u001b[0m \u001b[0mlink_sets\u001b[0m\u001b[0;34m(\u001b[0m\u001b[0mcostdiff_1k_x\u001b[0m\u001b[0;34m,\u001b[0m\u001b[0mcostdiff_1k_y\u001b[0m\u001b[0;34m)\u001b[0m\u001b[0;34m\u001b[0m\u001b[0;34m\u001b[0m\u001b[0m\n\u001b[0;32m---> 10\u001b[0;31m \u001b[0mclf\u001b[0m\u001b[0;34m.\u001b[0m\u001b[0mfit\u001b[0m\u001b[0;34m(\u001b[0m\u001b[0mcd1kxy\u001b[0m\u001b[0;34m)\u001b[0m\u001b[0;34m\u001b[0m\u001b[0;34m\u001b[0m\u001b[0m\n\u001b[0m",
      "\u001b[0;32m/usr/lib/python3.7/site-packages/sklearn/ensemble/iforest.py\u001b[0m in \u001b[0;36mfit\u001b[0;34m(self, X, y, sample_weight)\u001b[0m\n\u001b[1;32m    223\u001b[0m                  FutureWarning)\n\u001b[1;32m    224\u001b[0m \u001b[0;34m\u001b[0m\u001b[0m\n\u001b[0;32m--> 225\u001b[0;31m         \u001b[0mX\u001b[0m \u001b[0;34m=\u001b[0m \u001b[0mcheck_array\u001b[0m\u001b[0;34m(\u001b[0m\u001b[0mX\u001b[0m\u001b[0;34m,\u001b[0m \u001b[0maccept_sparse\u001b[0m\u001b[0;34m=\u001b[0m\u001b[0;34m[\u001b[0m\u001b[0;34m'csc'\u001b[0m\u001b[0;34m]\u001b[0m\u001b[0;34m)\u001b[0m\u001b[0;34m\u001b[0m\u001b[0;34m\u001b[0m\u001b[0m\n\u001b[0m\u001b[1;32m    226\u001b[0m         \u001b[0;32mif\u001b[0m \u001b[0missparse\u001b[0m\u001b[0;34m(\u001b[0m\u001b[0mX\u001b[0m\u001b[0;34m)\u001b[0m\u001b[0;34m:\u001b[0m\u001b[0;34m\u001b[0m\u001b[0;34m\u001b[0m\u001b[0m\n\u001b[1;32m    227\u001b[0m             \u001b[0;31m# Pre-sort indices to avoid that each individual tree of the\u001b[0m\u001b[0;34m\u001b[0m\u001b[0;34m\u001b[0m\u001b[0;34m\u001b[0m\u001b[0m\n",
      "\u001b[0;32m/usr/lib/python3.7/site-packages/sklearn/utils/validation.py\u001b[0m in \u001b[0;36mcheck_array\u001b[0;34m(array, accept_sparse, accept_large_sparse, dtype, order, copy, force_all_finite, ensure_2d, allow_nd, ensure_min_samples, ensure_min_features, warn_on_dtype, estimator)\u001b[0m\n\u001b[1;32m    565\u001b[0m         \u001b[0;31m# make sure we actually converted to numeric:\u001b[0m\u001b[0;34m\u001b[0m\u001b[0;34m\u001b[0m\u001b[0;34m\u001b[0m\u001b[0m\n\u001b[1;32m    566\u001b[0m         \u001b[0;32mif\u001b[0m \u001b[0mdtype_numeric\u001b[0m \u001b[0;32mand\u001b[0m \u001b[0marray\u001b[0m\u001b[0;34m.\u001b[0m\u001b[0mdtype\u001b[0m\u001b[0;34m.\u001b[0m\u001b[0mkind\u001b[0m \u001b[0;34m==\u001b[0m \u001b[0;34m\"O\"\u001b[0m\u001b[0;34m:\u001b[0m\u001b[0;34m\u001b[0m\u001b[0;34m\u001b[0m\u001b[0m\n\u001b[0;32m--> 567\u001b[0;31m             \u001b[0marray\u001b[0m \u001b[0;34m=\u001b[0m \u001b[0marray\u001b[0m\u001b[0;34m.\u001b[0m\u001b[0mastype\u001b[0m\u001b[0;34m(\u001b[0m\u001b[0mnp\u001b[0m\u001b[0;34m.\u001b[0m\u001b[0mfloat64\u001b[0m\u001b[0;34m)\u001b[0m\u001b[0;34m\u001b[0m\u001b[0;34m\u001b[0m\u001b[0m\n\u001b[0m\u001b[1;32m    568\u001b[0m         \u001b[0;32mif\u001b[0m \u001b[0;32mnot\u001b[0m \u001b[0mallow_nd\u001b[0m \u001b[0;32mand\u001b[0m \u001b[0marray\u001b[0m\u001b[0;34m.\u001b[0m\u001b[0mndim\u001b[0m \u001b[0;34m>=\u001b[0m \u001b[0;36m3\u001b[0m\u001b[0;34m:\u001b[0m\u001b[0;34m\u001b[0m\u001b[0;34m\u001b[0m\u001b[0m\n\u001b[1;32m    569\u001b[0m             raise ValueError(\"Found array with dim %d. %s expected <= 2.\"\n",
      "\u001b[0;31mTypeError\u001b[0m: float() argument must be a string or a number, not 'Timestamp'"
     ]
    }
   ],
   "source": [
    "rng = np.random.RandomState()\n",
    "clf = IsolationForest(behaviour='new', max_samples=len(costdiff_1k_x), random_state=rng, contamination='auto')\n",
    "\n",
    "def link_sets(x, y):\n",
    "    xy = []\n",
    "    for i in range(len(x)):\n",
    "        xy.append([x[i],y[i]])\n",
    "    return xy\n",
    "cd1kxy = link_sets(costdiff_1k_x,costdiff_1k_y)\n",
    "clf.fit(cd1kxy)"
   ]
  },
  {
   "cell_type": "code",
   "execution_count": null,
   "metadata": {},
   "outputs": [],
   "source": [
    "costdiff_5k = get_costdiff_sets(df_5k)\n",
    "costdiff_5k_x = costdiff_5k[0]\n",
    "costdiff_5k_y = costdiff_5k[1]\n",
    "cd5kx,cd5ky,e5k = gen_set(costdiff_5k_x, costdiff_5k_y)\n",
    "cd5kxy = link_sets(cd5kx, cd5ky)\n",
    "clf.predict(cd5kxy)\n",
    "\n",
    "pyplot.scatter(costdiff_5k_x, costdiff_5k_y)"
   ]
  },
  {
   "cell_type": "code",
   "execution_count": null,
   "metadata": {},
   "outputs": [],
   "source": [
    "costdiff_all = get_costdiff_sets(df_all)\n",
    "costdiff_all_x = costdiff_all[0]\n",
    "costdiff_all_y = costdiff_all[1]\n",
    "cdAx,cdAy,eAk = gen_set(costdiff_all_x, costdiff_all_y)\n",
    "cdAxy = link_sets(cdAx, cdAy)\n",
    "print(eAk)\n",
    "clf.predict(cdAxy)\n",
    "\n",
    "pyplot.scatter(cdAx, cdAy)"
   ]
  },
  {
   "cell_type": "code",
   "execution_count": null,
   "metadata": {},
   "outputs": [],
   "source": [
    "import matplotlib.pyplot as plt\n",
    "\n",
    "xx, yy = np.meshgrid(np.linspace(-5, 5, 50), np.linspace(-5, 5, 50))\n",
    "\n",
    "Z = clf.decision_function(np.c_[xx.ravel(), yy.ravel()])\n",
    "Z = Z.reshape(xx.shape)\n",
    "\n",
    "plt.title(\"IsolationForest\")\n",
    "plt.contourf(xx, yy, Z, cmap=plt.cm.Blues_r)\n",
    "\n",
    "b1 = plt.scatter(cd1kxy[:][0], cd1kxy[:][1], c='white',\n",
    "                 s=20, edgecolor='k')\n",
    "b2 = plt.scatter(cd5kxy[:][0], cd5kxy[:][1], c='green',\n",
    "                 s=20, edgecolor='k')\n",
    "c = plt.scatter(cdAxy[:][0], cdAxy[:][1], c='red',\n",
    "                s=20, edgecolor='k')\n",
    "plt.axis('tight')\n",
    "plt.xlim((-5, 5))\n",
    "plt.ylim((-5, 5))\n",
    "plt.legend([b1, b2, c],\n",
    "           [\"training observations\",\n",
    "            \"new regular observations\", \"new abnormal observations\"],\n",
    "           loc=\"upper left\")\n",
    "plt.show()"
   ]
  },
  {
   "cell_type": "code",
   "execution_count": null,
   "metadata": {},
   "outputs": [],
   "source": []
  }
 ],
 "metadata": {
  "kernelspec": {
   "display_name": "Python 3",
   "language": "python",
   "name": "python3"
  },
  "language_info": {
   "codemirror_mode": {
    "name": "ipython",
    "version": 3
   },
   "file_extension": ".py",
   "mimetype": "text/x-python",
   "name": "python",
   "nbconvert_exporter": "python",
   "pygments_lexer": "ipython3",
   "version": "3.7.2"
  }
 },
 "nbformat": 4,
 "nbformat_minor": 2
}
