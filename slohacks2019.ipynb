{
 "cells": [
  {
   "cell_type": "markdown",
   "metadata": {},
   "source": [
    "# SLO Hacks 2019\n",
    "\n",
    "The SLO Hacks Project Notebook"
   ]
  },
  {
   "cell_type": "markdown",
   "metadata": {},
   "source": [
    "### **iTradeNetwork Challenge**\n",
    "* Manufacturer number, if exists, is really reliable\n",
    "* Only 34K IPCs across 200K entries; IPC did not automagically map the data\n",
    "* Can build something to compare the line item with everything else, find the correct IPC?\n",
    "* If the IPC is zero in the Mapping Data, it could be:\n",
    "    - New\n",
    "    - Mangled data\n",
    "    - Etc\n",
    "\n",
    "\n",
    "* Task is to reliably regenerate the IPCs (Mapping)\n",
    "\n",
    "* IPC is internal ver of UPC that is defined for all items\n",
    "\n",
    "* Grading:\n",
    "    - Speed\n",
    "    - Efficiency\n",
    "    - Accuracy\n",
    "    - More unique code --> more bonus points\n",
    "\n",
    "\n",
    "* Col A: ORG Number: Who selling\n",
    "* Col B: ACCT_NAME : Person buying\n",
    "* Col C: PKG_ID: How packaged\n",
    "* Col F: What the DC calls the product\n",
    "* G; What the DC Calls product\n",
    "* h: unit for DC\n",
    "* J: Size: oz/ct/l depending on product\n",
    "\n",
    "* JS/Tableau framework\n",
    "* 18mo of Data 8-10 DC (ORG_Num is DC)\n",
    "* Confidence level could be good (same w/ mapping)\n",
    "\n",
    "* Include readme (e.g., \"anything charged at above 2x above price is irregular\")\n",
    "* Include names\n",
    "* Include comments"
   ]
  },
  {
   "cell_type": "markdown",
   "metadata": {},
   "source": [
    "-----\n",
    "\n",
    "* Data Mapping:\n",
    "    - Use ML to cluster things into different buckets\n",
    "        - Based on different product names, etc\n",
    "    - Many different columns\n",
    "\n",
    "\n",
    "* Anomaly\n",
    "    - Find many different anomalies\n",
    "        - Select a specific type of anomaly\n",
    "        - SQL column\n",
    "    - Types:\n",
    "        - Price: Unit price vs. Sale price\n",
    "        - Commission or omission of purchase\n",
    "        - Double charge\n",
    "        - Delivered vs DC Qty\n",
    "        -\n",
    "\n",
    "====="
   ]
  },
  {
   "cell_type": "markdown",
   "metadata": {},
   "source": [
    "Numbers:\n",
    "\n",
    "| ORGANIZATION NUMBER | ACCOUNT_NAME | PACKAGE_ID | INVOICE_NUM | TRANSACTION_DATE | DC_PROD_NUM | DC_PROD_NAME | DC_UNIT_OF_MEASURE | DC_QTY | DC_QTY_SIZE | DELIVERED_QUANTITY | DELIVERED_PRICE | UNIT_PRICE |\n",
    "|:---:|:---:|:---:|:---:|:---:|:---:|:---:|:---:|:---:|:---:|:---:|:---:|:---:|\n",
    "| 27 | 130 | 1182 | 38864 | 623 | 1405 | 1429 | 214 | 185 | 589 | 269 | 7511 | 3472\n",
    "\n"
   ]
  },
  {
   "cell_type": "code",
   "execution_count": null,
   "metadata": {},
   "outputs": [],
   "source": []
  }
 ],
 "metadata": {
  "kernelspec": {
   "display_name": "Python 3",
   "language": "python",
   "name": "python3"
  },
  "language_info": {
   "codemirror_mode": {
    "name": "ipython",
    "version": 3
   },
   "file_extension": ".py",
   "mimetype": "text/x-python",
   "name": "python",
   "nbconvert_exporter": "python",
   "pygments_lexer": "ipython3",
   "version": "3.7.2"
  }
 },
 "nbformat": 4,
 "nbformat_minor": 2
}
